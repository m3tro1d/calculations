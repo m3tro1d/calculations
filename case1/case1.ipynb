{
 "nbformat": 4,
 "nbformat_minor": 0,
 "metadata": {
  "colab": {
   "name": "case2_1.ipynb",
   "provenance": [],
   "collapsed_sections": []
  },
  "kernelspec": {
   "name": "python3",
   "display_name": "Python 3"
  }
 },
 "cells": [
  {
   "cell_type": "markdown",
   "metadata": {
    "id": "qAS6geVhMLH-"
   },
   "source": [
    "## Кейс №2. РЕШЕНИЕ УРАВНЕНИЯ $f(x)=0$\n",
    "\n",
    "**Моделирование ПИ-регулятора.**\n",
    "\n",
    "### **0. Постановка задачи**\n",
    "\n",
    "В данной работе нас интересует управление роботом на прямолинейном участке\n",
    "движения. Нам необходимо разогнать робота до заранее установленной (круизной)\n",
    "скорости $v_{dir}$ и поддерживать её. \n",
    "\n",
    "---------\n",
    "\n",
    "Чтобы решить данную задачу, нам придется составить уравнение движения и решить его при использовании автоматизированного управления.\n"
   ]
  },
  {
   "cell_type": "code",
   "metadata": {
    "id": "Ab647FNyMHsT",
    "colab": {
     "base_uri": "https://localhost:8080/"
    },
    "executionInfo": {
     "status": "ok",
     "timestamp": 1634309199493,
     "user_tz": -180,
     "elapsed": 22622,
     "user": {
      "displayName": "m3tro1d",
      "photoUrl": "https://lh3.googleusercontent.com/a-/AOh14GhtMGnLoJ1Eg-_k_SZyT99AhWEkqfMQTZEBu7K5ew=s64",
      "userId": "00255403021357644799"
     }
    },
    "outputId": "00fb7713-15b2-40a1-d725-386a2e3d2542"
   },
   "source": [
    "from google.colab import drive\n",
    "drive.mount('/content/drive')\n",
    "\n",
    "import sys\n",
    "\n",
    "sys.path.append(\"/content/drive/My Drive/Colab Notebooks/Calculations/Case 2.1/\")\n",
    "sys.path.append(\"/content/drive/My Drive/Colab Notebooks/COMP_MATH/Cases/case-2_1/\")"
   ],
   "execution_count": 29,
   "outputs": []
  },
  {
   "cell_type": "code",
   "metadata": {
    "id": "6fkhKAksMTJM",
    "colab": {
     "base_uri": "https://localhost:8080/"
    },
    "executionInfo": {
     "status": "ok",
     "timestamp": 1634309204903,
     "user_tz": -180,
     "elapsed": 2027,
     "user": {
      "displayName": "m3tro1d",
      "photoUrl": "https://lh3.googleusercontent.com/a-/AOh14GhtMGnLoJ1Eg-_k_SZyT99AhWEkqfMQTZEBu7K5ew=s64",
      "userId": "00255403021357644799"
     }
    },
    "outputId": "3db771e7-749d-4be7-f98b-f42fefb4ade8"
   },
   "source": [
    "# Импортируем необходимые библиотеки и функции из модулей\n",
    "import numpy as np\n",
    "np.set_printoptions(precision=3)\n",
    "import matplotlib.pyplot as plt\n",
    "%matplotlib inline\n",
    "import datetime\n",
    "print('Last Updated On: ', datetime.datetime.now())\n",
    "\n",
    "# ----------------              Загрузка модулей               -----------------\n",
    "from utils import drawErrorDynamic, show_convergence_rate_plot #, analys_tdone, calc_opt_regulpars, calc_velocity_dynamics"
   ],
   "execution_count": 30,
   "outputs": [
    {
     "name": "stdout",
     "output_type": "stream",
     "text": [
      "Last Updated On:  2021-12-06 21:32:28.397308\n"
     ]
    }
   ]
  },
  {
   "cell_type": "markdown",
   "metadata": {
    "id": "uoUWbiMjmoXD"
   },
   "source": [
    "### **1. Модель движения робота**\n",
    "\n",
    "Общее уравнение движения робота по прямой выглядит следующим образом:\n",
    "$$(1) \\;  𝑚 ∗ 𝑎 = 𝐹 \\  – 𝐹𝑐 $$\n",
    "\n",
    "или\n",
    "\n",
    "$$(1') \\;  𝑎 = \\frac {dv}{dt} = \\frac {1}{m} * (𝐹 \\  – 𝐹𝑐) $$\n",
    "\n",
    "Здесь \n",
    "$$ 𝐹 =\n",
    "\\left \\{\n",
    "    \\begin{aligned}\n",
    "    𝐹𝑚𝑜𝑡𝑜𝑟 = 𝑢 > 0 \\\\\n",
    "    𝐹𝑏𝑟𝑎𝑐𝑘𝑒𝑡 = 𝑢 < 0 \\\\\n",
    "\t\\end{aligned}\n",
    "\\right.\n",
    "$$\n",
    "\n",
    "$𝐹$ – сила раскрутки ($𝐹𝑚𝑜𝑡𝑜𝑟$) или торможения ($𝐹𝑏𝑟𝑎𝑐𝑘𝑒𝑡$) колес (Н);\n",
    "\n",
    "$Fc = kc*v$ – сила сопротивления воздуха движению авто (Н);\n",
    "\n",
    "$m, v, a$ - масса (кг), скорость (м/с) и ускорение ($м*c^{-2}$) робота соответственно.\n",
    "\n",
    "--------\n",
    "\n",
    "Мы должны научиться управлять ускорением и, в конечном счете, скоростью робота. Для этого надо сконструировать алгоритм автоматического расчета силы $F$  в зависимости от текущей скорости.\n",
    "\n",
    "Также надо учесть, что наши возможности не безграничны и сила должна удовлетворять условию:\n",
    "\n",
    "$$-Fmax \\le F \\le Fmax$$\n",
    "\n",
    "------------\n"
   ]
  },
  {
   "cell_type": "code",
   "metadata": {
    "id": "_PrmKzJXMkVm"
   },
   "source": [
    "# Для примера расчета установим параметры модели движения робота:\n",
    "# -----------------------------------------------\n",
    "robot_m = 100    # масса робота, кг\n",
    "Fmax = 200  # максимальная сила ускорения-торможения, Н\n",
    "kc = 2       # коэффициент сопротивления воздуха\n",
    "\n",
    "model_pars = {'m':robot_m, 'kc':kc, 'Umax':Fmax}"
   ],
   "execution_count": 31,
   "outputs": []
  },
  {
   "cell_type": "markdown",
   "metadata": {
    "id": "Pl1S_TNXqcDI"
   },
   "source": [
    "### **2. Модель управления**\n",
    "\n",
    "Рассмотрим модель управления движением мобильным роботом."
   ]
  },
  {
   "cell_type": "markdown",
   "metadata": {
    "id": "dvZxym8ZqwaD"
   },
   "source": [
    "#### **ПИ-регулятор ускорения движения робота**\n",
    "\n",
    "Данный ПИ-регулятор устанавливает силу ускорения или торможения \n",
    "робота $F$ в зависимости от текущей его скорости $v$. Идея проста, чем больше  расхождение между $v_{dir}$ и текущей скоростью $v$, тем должна быть больше сила и ускорение, чтобы это расхождение уменьшить:\n",
    "\n",
    "$$(ПИ-регулятор) \\;\n",
    "\\left\\{\n",
    "   \t\\begin{aligned}\n",
    "       \\varepsilon_{v}[t] &= v_{dir} - v[t] \\\\\n",
    "       F[t] &= kP * \\varepsilon_{v}[t] + kI * \\int_{t - t_{lag}}^{t} \\varepsilon_{v}[\\tau]*d\\tau\n",
    "\t\\end{aligned}\n",
    "\\right.\n",
    "$$\n",
    "\n",
    "Здесь \n",
    "- $\\varepsilon_{v}[t]$ - разница между директивной скоростью $v_{dir}$ и текущей скоростью робота $v[t]$ в момент времени t (м/с);\n",
    "\n",
    "- $v_{dir}$ - директивная скорость (м/с);\n",
    "\n",
    "- $v[t]$ - скорость робота в момент времени t (м/с);\n",
    "\n",
    "- $kP, kI$ - коэффициенты управления пропорционального (П-) и интегрального (И-) регуляторов соответственно (ПИ-регулятор);\n",
    "\n",
    "- $t_{lag}$ - лаг по времени, за какой интервал времени мы накапливаем (интегрируем ошибку), начиная с текущего момента времени (с).\n",
    "\n",
    "------------"
   ]
  },
  {
   "cell_type": "code",
   "metadata": {
    "id": "-2zwMxpuMnku"
   },
   "source": [
    "\n",
    "# устанавливаем параметры ПИ-регулятора:\n",
    "# -----------------------------------------------\n",
    "cruize_vel = 25     # директивная круизная скорость, м/с\n",
    "regulator_kP = 3    # коэффициент пропорционального регулятора\n",
    "regulator_kI = 0.3  # коэффициент интегрального регулятора\n",
    "regulator_lag = 400 # с, максимальный лаг по времени при вычислении интегральной ошибки\n",
    "\n",
    "regul_pars = {'Vdir':cruize_vel, 'kP':regulator_kP, 'kI':regulator_kI, 'lag': regulator_lag}"
   ],
   "execution_count": 32,
   "outputs": []
  },
  {
   "cell_type": "markdown",
   "metadata": {
    "id": "acQLbRGI1GWt"
   },
   "source": [
    "### **3. Модель расчета динамики изменения скорости.**\n",
    "\n",
    "Для расчета динамики изменения скорости в зависимости от выбранного управления подставим выбранное нами управление (ПИ-регулятор) в уравнение движения (1) или (1'):\n",
    "\n",
    "$$(2) \\;  \\frac {dv}{dt}= \\frac {1}{m} * (kP * \\varepsilon_{v}[t] + kI * \\int_{t - t_{lag}}^{t} \\varepsilon_{v}[\\tau]*d\\tau - kc*v)$$\n",
    "\n",
    "Будем решать данное дифференциальное уравнение приближенно, заменив непрерывное время на дискретное время с шагом $\\Delta t$:\n",
    "\n",
    "$t_0, t_1 = t_0+\\Delta t, t_2 = t_0+2\\Delta t, ...$ \n",
    "\n",
    "Вместо производной $\\frac {dv}{dt}$ подставим ее дискретный аналог, а вместо интеграла приближенную сумму:\n",
    "\n",
    "$$(3) \\;  \\frac {v[t_{i+1}] - v[t_i]}{\\Delta t}= \\frac {1}{m} * (kP * \\varepsilon_{v}[t_i] + kI * \\sum_{t - t_{lag} \\le t[i] \\le t}^{} \\varepsilon_{v}[t[i]]*\\Delta t - kc*v[t[i]])$$\n",
    "\n",
    "Упростим запись, введя обозначения \n",
    "\n",
    "$t_i = t[i]$, \n",
    "\n",
    "$v_i = v[t_i]$,\n",
    "\n",
    "$\\varepsilon_i = \\varepsilon_{v}[t_i]$.\n",
    "\n",
    "Получим уравнение\n",
    "\n",
    "$$(3') \\;  \\frac {v_{i+1} - v_i}{\\Delta t}= \\frac {1}{m} * (kP * \\varepsilon_i + kI * \\sum_{i - n_{lag} \\le j \\le i}^{} \\varepsilon_j*\\Delta t - kc*v_i),$$\n",
    "\n",
    "которое легко преобразовать в итерационный процесс:\n",
    "\n",
    "$$(4) \\;  v_{i+1} = v_i + \\frac {\\Delta t}{m} * (kP * \\varepsilon_i + kI * \\sum_{i - n_{lag} + 1 \\le j \\le i}^{} \\varepsilon_j*\\Delta t - kc*v_i), i=0,1,...,$$\n",
    "\n",
    "задав начальную скорость и все остальные параметры модели и управления.\n",
    "\n",
    "Здесь \n",
    "\n",
    "$n_{lag}$ - это количество шагов дискретного времени за интервал $t_{lag}$.\n",
    "\n",
    "------------\n",
    "\n",
    "Имея такой итерационный процесс $x = x - \\alpha *f(x)$, легко догадаться, что мы решаем уравнение вида:\n",
    "\n",
    "$$kP * \\varepsilon_{v}[t] + kI * \\int_{t - t_{lag}}^{t} \\varepsilon_{v}[\\tau]*d\\tau - kc*v[t] = 0,$$\n",
    "\n",
    "или \n",
    "\n",
    "$$ F(t) = F_c(t) .$$\n",
    "\n",
    "---------\n"
   ]
  },
  {
   "cell_type": "code",
   "metadata": {
    "id": "5sUCMK7hqYGs"
   },
   "source": [
    "# параметры расчета динамики изменения скорости\n",
    "# -----------------------------------------------------------------\n",
    "v0 = 0   #Начальная скорость\n",
    "t0 = 0   # время старта\n",
    "tmax = 400   # максимальное время расчета\n",
    "dt = 1   # временной шаг расчета / дискретизации\n",
    "v_precision = 0.1  #Точность достижения круизной скорости\n",
    "\n",
    "calc_pars = {'v0':v0, 't0':t0, 'tmax':tmax, 'dt':dt, 'v_precision':v_precision}"
   ],
   "execution_count": 33,
   "outputs": []
  },
  {
   "cell_type": "markdown",
   "metadata": {
    "id": "E_GIvacKM0ck"
   },
   "source": [
    "### **4. Алгоритм расчета динамики изменения скорости движения объекта с заданными параметрами управления**\n",
    "\n",
    "**ВХОД**: calc_pars, model_pars, regul_pars\n",
    "\n",
    "**ВЫХОД**: v_trace = np.array() - трассировка скорости во все моменты расчета, начиная с момента времени t0 и до момента времени tmax с шагом dt, n величин, в n моментов времени $t0, t0+dt, t0+2dt, ... (int(tmax / dt))*dt.$ \n",
    "\n",
    "v_trace.shape = (2, nsteps+1), nsteps = $int((tmax - t0) / dt), nlag = int(lag / dt)$\n",
    "\n",
    "v_trace[0] - содержит все расчетные моменты времени в возрастающем порядке,\n",
    "\n",
    "v_trace[1] - содержит скорости в соответствующие моменты времени.\n",
    "\n",
    "------------\n",
    "\n",
    "Алгоритм расчета:\n",
    "0. Инициализируем $v\\_trace = [v0]$; $err = []$\n",
    "\n",
    "1. $for \\  step \\  in \\  range(nsteps):$\n",
    "\n",
    "  1.1. рассчитываем ошибку управления:\n",
    "  $err[step] = Vdir - v\\_trace[step]$ \\\\\n",
    "  1.2. рассчитываем интегральную ошибку за интервал времени $lag$ (до текущего момента):\n",
    "  $sumerr[step] = \\sum_{i \\in [step-n(lag), step]} {err[i]}$ \\\\\n",
    "  1.3. рассчитываем пропорциональную составляющую управления: $uP = kP*err[step]$ \\\\\n",
    "  1.4. рассчитываем интегральную составляющую управления: $uI = kI*sumerr[step]*dt$ \\\\\n",
    "  1.5. рассчитываем суммарное управляющее воздействие: $F = uP + uI$ \\\\\n",
    "  1.6. корректируем управление так, чтобы соблюдалось условие $-Fmax \\le F \\le Fmax$ \\\\\n",
    "  1.7. Применяем управление: \\\\\n",
    "  $dV = (F - kc*v[step])*dt / m$ \\\\\n",
    "  $v[step+1] = v[step] + dV$ \\\\\n",
    "  1.8. дополняем $v\\_trace$\n",
    "\n",
    "2. Выход с $v\\_trace$"
   ]
  },
  {
   "cell_type": "code",
   "metadata": {
    "id": "M62OJ2ARn7lR"
   },
   "source": [
    "# ---------------------- ВАШ КОД ------------------------\n",
    "def calc_velocity_dynamics(calc_pars, model_pars, regul_pars):\n",
    "    Vcur = calc_pars['v0']\n",
    "    v_trace = [np.array([calc_pars['t0'], Vcur])]\n",
    "    errors = []\n",
    "    # ------- здесь ваш код --------\n",
    "    nsteps = round((calc_pars['tmax'] - calc_pars['t0']) / calc_pars['dt'])\n",
    "    nlag = round(regul_pars['lag'] / calc_pars['dt'])\n",
    "    t = calc_pars['t0']\n",
    "    for step in range(nsteps):\n",
    "        # 1. Рассчитаем текущую ошибку управления\n",
    "        error = regul_pars['Vdir'] - Vcur\n",
    "        errors.append(error)\n",
    "\n",
    "        # 2. Рассчитаем суммарную ошибку за nlag последних шагов\n",
    "        sumerror = sum(errors[-nlag:])\n",
    "\n",
    "        # 3. рассчитываем пропорциональную составляющую управления\n",
    "        uP = regul_pars['kP'] * error\n",
    "\n",
    "        # 4. рассчитываем интегральную составляющую управления\n",
    "        uI = regul_pars['kI'] * sumerror * calc_pars['dt']\n",
    "\n",
    "        # 5. рассчитываем суммарное управляющее воздействие\n",
    "        F = uP + uI\n",
    "\n",
    "        # 6. корректируем управление так, чтобы соблюдалось условие  −Fmax≤F≤Fmax\n",
    "        if F < -model_pars['Umax']:\n",
    "            F = -model_pars['Umax']\n",
    "        if F > model_pars['Umax']:\n",
    "            F = model_pars['Umax']\n",
    "\n",
    "        # 7. расчет изменения скорости за шаг времени dt\n",
    "        dV = (F - model_pars['kc'] * Vcur) * calc_pars['dt'] / model_pars['m']\n",
    "\n",
    "        # 8. Расчет скорости в следующий момент времени\n",
    "        Vcur += dV\n",
    "        t += calc_pars['dt']\n",
    "\n",
    "        v_trace.append(np.array([t, Vcur]))\n",
    "\n",
    "    return np.array(v_trace).T"
   ],
   "execution_count": 34,
   "outputs": []
  },
  {
   "cell_type": "markdown",
   "metadata": {
    "id": "LFVZiocJDh1-"
   },
   "source": [
    "### **5. Пример расчета №1: $dt=1 (c)$**"
   ]
  },
  {
   "cell_type": "code",
   "metadata": {
    "id": "Zo_7N-aBMuxq"
   },
   "source": [
    "# произведём расчет траектории и выведем результат расчета:\n",
    "v_trace = calc_velocity_dynamics(calc_pars, model_pars, regul_pars)"
   ],
   "execution_count": 35,
   "outputs": []
  },
  {
   "cell_type": "code",
   "metadata": {
    "colab": {
     "base_uri": "https://localhost:8080/"
    },
    "id": "w9qLBGJxhlTE",
    "executionInfo": {
     "status": "ok",
     "timestamp": 1633765911514,
     "user_tz": -180,
     "elapsed": 17,
     "user": {
      "displayName": "m3tro1d",
      "photoUrl": "https://lh3.googleusercontent.com/a-/AOh14GhtMGnLoJ1Eg-_k_SZyT99AhWEkqfMQTZEBu7K5ew=s64",
      "userId": "00255403021357644799"
     }
    },
    "outputId": "a4095d13-bbd0-43ed-d3af-4eb57e3804d5"
   },
   "source": [
    "print(v_trace.shape)\n",
    "print(v_trace[:,0:10])\n",
    "print(v_trace[:,201:209])"
   ],
   "execution_count": 36,
   "outputs": [
    {
     "name": "stdout",
     "output_type": "stream",
     "text": [
      "(2, 401)\n",
      "[[0.    1.    2.    3.    4.    5.    6.    7.    8.    9.   ]\n",
      " [0.    0.825 1.681 2.565 3.471 4.397 5.338 6.292 7.253 8.22 ]]\n",
      "[[201.    202.    203.    204.    205.    206.    207.    208.   ]\n",
      " [ 25.12   25.113  25.106  25.099  25.092  25.085  25.078  25.071]]\n"
     ]
    }
   ]
  },
  {
   "cell_type": "markdown",
   "metadata": {
    "id": "Xo_CKJsLTT0z"
   },
   "source": [
    "#### **5.2. Результат расчета №1**\n",
    "\n",
    "v_trace.shape = (2, 401)\n",
    "\n",
    "v_trace = \n",
    "[[0.    0.   ]\n",
    "\n",
    " [1.    0.825]\n",
    "\n",
    " [2.    1.681]\n",
    "\n",
    " [3.    2.565]\n",
    "\n",
    " [4.    3.471]\n",
    "\n",
    " [5.    4.397]]\n",
    "\n",
    "...\n",
    "\n",
    "[[201.     25.12 ]\n",
    " [202.     25.113]\n",
    " [203.     25.106]\n",
    " [204.     25.099]\n",
    " [205.     25.092]\n",
    " [206.     25.085]\n",
    " [207.     25.078]\n",
    " [208.     25.071]]"
   ]
  },
  {
   "cell_type": "markdown",
   "metadata": {
    "id": "-KngfNjqNJJp"
   },
   "source": [
    "#### **5.3. Визуализация динамики скорости для заданного ПИ-регулятора**"
   ]
  },
  {
   "cell_type": "code",
   "metadata": {
    "id": "81nU-sYl-sQK"
   },
   "source": [
    "def drawDynamic(V_trace, Pars):\n",
    "    Vdir = Pars['Vdir']\n",
    "    if 'Tdone' in Pars:\n",
    "        Tdone = Pars['Tdone']\n",
    "    else:\n",
    "        Tdone = -1\n",
    "\n",
    "    fig = plt.figure(figsize=(8, 7))\n",
    "    plt.plot(V_trace[0], V_trace[1], 'c', label='скорость робота')\n",
    "    plt.plot([V_trace[0][0], V_trace[0][-1]], [Vdir, Vdir], 'r--', label='цель')\n",
    "    plt.xlabel('t, сек')\n",
    "    plt.ylabel('V, м/с')\n",
    "    minV = min(V_trace[1]); maxV = max(V_trace[1])\n",
    "    if Tdone > 0:\n",
    "        plt.plot([Tdone, Tdone], [minV, maxV], 'y--', label='время достижения цели={:05.1f}'.format(Tdone))\n",
    "    plt.legend(loc=4, fontsize=12)\n",
    "    plt.title('Динамика скорости (м/с)')\n",
    "    plt.show()\n"
   ],
   "execution_count": 37,
   "outputs": []
  },
  {
   "cell_type": "code",
   "metadata": {
    "id": "vLYP5SuMNElJ",
    "colab": {
     "base_uri": "https://localhost:8080/",
     "height": 458
    },
    "executionInfo": {
     "status": "ok",
     "timestamp": 1633765911515,
     "user_tz": -180,
     "elapsed": 15,
     "user": {
      "displayName": "m3tro1d",
      "photoUrl": "https://lh3.googleusercontent.com/a-/AOh14GhtMGnLoJ1Eg-_k_SZyT99AhWEkqfMQTZEBu7K5ew=s64",
      "userId": "00255403021357644799"
     }
    },
    "outputId": "4fbe83e4-07a2-4417-b4bc-98c44f0045e3"
   },
   "source": [
    "# отрисовываем динамику скоростей и управляющих воздействий\n",
    "drawDynamic(v_trace, {'Vdir':cruize_vel})"
   ],
   "execution_count": 38,
   "outputs": [
    {
     "data": {
      "text/plain": "<Figure size 576x504 with 1 Axes>",
      "image/png": "[encoded data removed]"
     },
     "metadata": {
      "needs_background": "light"
     },
     "output_type": "display_data"
    }
   ]
  },
  {
   "cell_type": "code",
   "metadata": {
    "id": "0GjuQe7BHmzI"
   },
   "source": [
    "def analys_tdone(v_trace, cruize_vel, v_precision):\n",
    "    fluctuations = []\n",
    "    for t, v in v_trace.T:\n",
    "        fluctuations.append((t, np.abs(cruize_vel - v) < v_precision))\n",
    "\n",
    "    tdone = 0\n",
    "    for i in reversed(range(len(fluctuations))):\n",
    "        if not fluctuations[i][1]:\n",
    "            tdone = fluctuations[i + 1][0]\n",
    "            break\n",
    "\n",
    "    return tdone"
   ],
   "execution_count": 39,
   "outputs": []
  },
  {
   "cell_type": "markdown",
   "metadata": {
    "id": "d07G7K7cNWYH"
   },
   "source": [
    "-----------"
   ]
  },
  {
   "cell_type": "markdown",
   "metadata": {
    "id": "hToQt8YRNcNb"
   },
   "source": [
    "#### **5.4. Анализ времени достижения круизной скорости с заданной точностью**\n"
   ]
  },
  {
   "cell_type": "code",
   "metadata": {
    "id": "K9JcX641NRLg",
    "colab": {
     "base_uri": "https://localhost:8080/"
    },
    "executionInfo": {
     "status": "ok",
     "timestamp": 1633765911858,
     "user_tz": -180,
     "elapsed": 11,
     "user": {
      "displayName": "m3tro1d",
      "photoUrl": "https://lh3.googleusercontent.com/a-/AOh14GhtMGnLoJ1Eg-_k_SZyT99AhWEkqfMQTZEBu7K5ew=s64",
      "userId": "00255403021357644799"
     }
    },
    "outputId": "4e81d497-dc73-4de2-e908-3629a471563d"
   },
   "source": [
    "t_done = analys_tdone(v_trace, cruize_vel, v_precision)\n",
    "print('время достижения заданной точности', t_done)\n",
    "print(analys_tdone2(v_trace, cruize_vel, v_precision))"
   ],
   "execution_count": 40,
   "outputs": [
    {
     "name": "stdout",
     "output_type": "stream",
     "text": [
      "время достижения заданной точности 204.0\n"
     ]
    },
    {
     "ename": "NameError",
     "evalue": "name 'analys_tdone2' is not defined",
     "output_type": "error",
     "traceback": [
      "\u001B[1;31m---------------------------------------------------------------------------\u001B[0m",
      "\u001B[1;31mNameError\u001B[0m                                 Traceback (most recent call last)",
      "\u001B[1;32m~\\AppData\\Local\\Temp/ipykernel_4252/3657307502.py\u001B[0m in \u001B[0;36m<module>\u001B[1;34m\u001B[0m\n\u001B[0;32m      1\u001B[0m \u001B[0mt_done\u001B[0m \u001B[1;33m=\u001B[0m \u001B[0manalys_tdone\u001B[0m\u001B[1;33m(\u001B[0m\u001B[0mv_trace\u001B[0m\u001B[1;33m,\u001B[0m \u001B[0mcruize_vel\u001B[0m\u001B[1;33m,\u001B[0m \u001B[0mv_precision\u001B[0m\u001B[1;33m)\u001B[0m\u001B[1;33m\u001B[0m\u001B[1;33m\u001B[0m\u001B[0m\n\u001B[0;32m      2\u001B[0m \u001B[0mprint\u001B[0m\u001B[1;33m(\u001B[0m\u001B[1;34m'время достижения заданной точности'\u001B[0m\u001B[1;33m,\u001B[0m \u001B[0mt_done\u001B[0m\u001B[1;33m)\u001B[0m\u001B[1;33m\u001B[0m\u001B[1;33m\u001B[0m\u001B[0m\n\u001B[1;32m----> 3\u001B[1;33m \u001B[0mprint\u001B[0m\u001B[1;33m(\u001B[0m\u001B[0manalys_tdone2\u001B[0m\u001B[1;33m(\u001B[0m\u001B[0mv_trace\u001B[0m\u001B[1;33m,\u001B[0m \u001B[0mcruize_vel\u001B[0m\u001B[1;33m,\u001B[0m \u001B[0mv_precision\u001B[0m\u001B[1;33m)\u001B[0m\u001B[1;33m)\u001B[0m\u001B[1;33m\u001B[0m\u001B[1;33m\u001B[0m\u001B[0m\n\u001B[0m",
      "\u001B[1;31mNameError\u001B[0m: name 'analys_tdone2' is not defined"
     ]
    }
   ]
  },
  {
   "cell_type": "code",
   "metadata": {
    "id": "zX4sGuDEACnS",
    "colab": {
     "base_uri": "https://localhost:8080/",
     "height": 459
    },
    "executionInfo": {
     "status": "ok",
     "timestamp": 1633765912397,
     "user_tz": -180,
     "elapsed": 545,
     "user": {
      "displayName": "m3tro1d",
      "photoUrl": "https://lh3.googleusercontent.com/a-/AOh14GhtMGnLoJ1Eg-_k_SZyT99AhWEkqfMQTZEBu7K5ew=s64",
      "userId": "00255403021357644799"
     }
    },
    "outputId": "2b4f36b7-e00a-44af-98b5-64d83367bdcb"
   },
   "source": [
    "# иллюстрация достижения точности\n",
    "drawErrorDynamic(v_trace, {'Vdir':cruize_vel, 'Tdone':t_done})"
   ],
   "execution_count": 42,
   "outputs": [
    {
     "data": {
      "text/plain": "<Figure size 1152x504 with 2 Axes>",
      "image/png": "[encoded data removed]"
     },
     "metadata": {
      "needs_background": "light"
     },
     "output_type": "display_data"
    }
   ]
  },
  {
   "cell_type": "markdown",
   "metadata": {
    "id": "kdiR2prqNmxo"
   },
   "source": [
    "**ВЫВОД**. При заданных значениях параметров регулятора kP=3, kI=0.3 и dt=1c мы добиваемся заданной точности за 204 сек. Но видим, что были достаточно большие колебания скорости. Поэтому качество управления можно улучшить.\n",
    "\n",
    "----------\n"
   ]
  },
  {
   "cell_type": "markdown",
   "metadata": {
    "id": "H2Bc8D9KDd6k"
   },
   "source": [
    "### **6. Пример расчета №2: $dt=0.5 (c)$**\n",
    "\n",
    "Все параметры оставим без изменения. Изменим только шаг по времени и посмотрим как отразится на динамике изменения скорости и времени достижения круизной скорости.\n",
    "\n",
    "---------\n"
   ]
  },
  {
   "cell_type": "code",
   "metadata": {
    "id": "De2yK2DlES3F"
   },
   "source": [
    "# параметры расчета динамики изменения скорости\n",
    "# -----------------------------------------------------------------\n",
    "v0 = 0   #Начальная скорость\n",
    "t0 = 0   # время старта\n",
    "tmax = 400   # максимальное время расчета\n",
    "dt = 0.5   # временной шаг расчета / дискретизации\n",
    "v_precision = 0.1  #Точность достижения круизной скорости\n",
    "\n",
    "calc_pars = {'v0':v0, 't0':t0, 'tmax':tmax, 'dt':dt, 'v_precision':v_precision}"
   ],
   "execution_count": null,
   "outputs": []
  },
  {
   "cell_type": "code",
   "metadata": {
    "id": "BPgqH0FKEauW"
   },
   "source": [
    "# произведём расчет траектории и выведем результат расчета:\n",
    "v_trace = calc_velocity_dynamics(calc_pars, model_pars, regul_pars)"
   ],
   "execution_count": 45,
   "outputs": []
  },
  {
   "cell_type": "code",
   "metadata": {
    "colab": {
     "base_uri": "https://localhost:8080/"
    },
    "id": "Pi4N-fpQEa5x",
    "executionInfo": {
     "status": "ok",
     "timestamp": 1633765912401,
     "user_tz": -180,
     "elapsed": 12,
     "user": {
      "displayName": "m3tro1d",
      "photoUrl": "https://lh3.googleusercontent.com/a-/AOh14GhtMGnLoJ1Eg-_k_SZyT99AhWEkqfMQTZEBu7K5ew=s64",
      "userId": "00255403021357644799"
     }
    },
    "outputId": "d387aaaf-8da7-4216-c553-43be9e80f5de"
   },
   "source": [
    "# выведем размеры массива и несколько точек траектории для контроля алгоритма\n",
    "print(v_trace.shape)\n",
    "print(v_trace.T[0:5,:])\n",
    "print(v_trace.T[410:415,:])"
   ],
   "execution_count": 48,
   "outputs": [
    {
     "name": "stdout",
     "output_type": "stream",
     "text": [
      "(2, 401)\n",
      "[[0.    0.   ]\n",
      " [1.    0.825]\n",
      " [2.    1.681]\n",
      " [3.    2.565]\n",
      " [4.    3.471]]\n",
      "[]\n"
     ]
    }
   ]
  },
  {
   "cell_type": "markdown",
   "metadata": {
    "id": "zcUdFlKFUFyM"
   },
   "source": [
    "#### **6.2. Результат расчета №2**\n",
    "\n",
    "v_trace.shape = (2, 801)\n",
    "\n",
    "v_trace = \n",
    "\n",
    "[[0.    0.   ]\n",
    "\n",
    " [0.5   0.394]\n",
    "\n",
    " [1.    0.796]\n",
    "\n",
    " [1.5   1.207]\n",
    "\n",
    " [2.    1.625]]\n",
    " ...\n",
    "\n",
    "[[205.     25.104]\n",
    " [205.5    25.101]\n",
    " [206.     25.097]\n",
    " [206.5    25.094]\n",
    " [207.     25.09 ]]"
   ]
  },
  {
   "cell_type": "markdown",
   "metadata": {
    "id": "YaNZT7PLUulX"
   },
   "source": [
    "#### **6.3. Визуализация динамики скорости для заданного ПИ-регулятора**\n"
   ]
  },
  {
   "cell_type": "code",
   "metadata": {
    "colab": {
     "base_uri": "https://localhost:8080/",
     "height": 458
    },
    "id": "g3rGaSjuVPaC",
    "executionInfo": {
     "status": "ok",
     "timestamp": 1633765913211,
     "user_tz": -180,
     "elapsed": 818,
     "user": {
      "displayName": "m3tro1d",
      "photoUrl": "https://lh3.googleusercontent.com/a-/AOh14GhtMGnLoJ1Eg-_k_SZyT99AhWEkqfMQTZEBu7K5ew=s64",
      "userId": "00255403021357644799"
     }
    },
    "outputId": "9eff4da7-6c21-4b67-8b7f-96b0b0078ead"
   },
   "source": [
    "# отрисовываем динамику скоростей и управляющих воздействий\n",
    "drawDynamic(v_trace, {'Vdir':cruize_vel})"
   ],
   "execution_count": null,
   "outputs": []
  },
  {
   "cell_type": "markdown",
   "metadata": {
    "id": "enRZlx5mV6Yj"
   },
   "source": [
    "#### **6.4. Анализ времени достижения круизной скорости с заданной точностью**\n"
   ]
  },
  {
   "cell_type": "code",
   "metadata": {
    "colab": {
     "base_uri": "https://localhost:8080/"
    },
    "id": "8kV0AfA5UA90",
    "executionInfo": {
     "status": "ok",
     "timestamp": 1633765913212,
     "user_tz": -180,
     "elapsed": 23,
     "user": {
      "displayName": "m3tro1d",
      "photoUrl": "https://lh3.googleusercontent.com/a-/AOh14GhtMGnLoJ1Eg-_k_SZyT99AhWEkqfMQTZEBu7K5ew=s64",
      "userId": "00255403021357644799"
     }
    },
    "outputId": "bfa6b1c2-1f25-4e5e-ddd4-273dae5a7ff7"
   },
   "source": [
    "t_done = analys_tdone(v_trace, cruize_vel, v_precision)\n",
    "print('время достижения заданной точности', t_done)\n",
    "print(analys_tdone2(v_trace, cruize_vel, v_precision))"
   ],
   "execution_count": null,
   "outputs": []
  },
  {
   "cell_type": "code",
   "metadata": {
    "colab": {
     "base_uri": "https://localhost:8080/",
     "height": 459
    },
    "id": "txs77SgSVHDt",
    "executionInfo": {
     "status": "ok",
     "timestamp": 1633765913213,
     "user_tz": -180,
     "elapsed": 19,
     "user": {
      "displayName": "m3tro1d",
      "photoUrl": "https://lh3.googleusercontent.com/a-/AOh14GhtMGnLoJ1Eg-_k_SZyT99AhWEkqfMQTZEBu7K5ew=s64",
      "userId": "00255403021357644799"
     }
    },
    "outputId": "e7408cf8-77ea-4968-8e3e-a8ee6abe4351"
   },
   "source": [
    "# иллюстрация достижения точности\n",
    "drawErrorDynamic(v_trace, {'Vdir':cruize_vel, 'Tdone':t_done})"
   ],
   "execution_count": null,
   "outputs": []
  },
  {
   "cell_type": "markdown",
   "metadata": {
    "id": "SMk4RYQTXWXm"
   },
   "source": [
    "**ВЫВОД**. При заданных значениях параметров регулятора kP=3, kI=0.3 и dt=0.5c мы добиваемся заданной точности за 206,5 сек. Это чуть больше, чем при дискретности управления dt=1c. Связано с более мягким набором скорости за счет того, что интеграл теперь более точно аппроксимируется суммой.\n",
    "\n",
    "---------\n"
   ]
  },
  {
   "cell_type": "markdown",
   "metadata": {
    "id": "l0pg_rz9Ltj4"
   },
   "source": [
    "### **7. Поиск оптимальных значений параметров управления**\n",
    "\n",
    "Проведем поиск оптимальных значений параметров управления при неизменных остальных значениях параметров модели движения и расчета."
   ]
  },
  {
   "cell_type": "code",
   "metadata": {
    "id": "1ZjfulxATLR2",
    "colab": {
     "base_uri": "https://localhost:8080/",
     "height": 246
    },
    "executionInfo": {
     "status": "error",
     "timestamp": 1633765913565,
     "user_tz": -180,
     "elapsed": 368,
     "user": {
      "displayName": "m3tro1d",
      "photoUrl": "https://lh3.googleusercontent.com/a-/AOh14GhtMGnLoJ1Eg-_k_SZyT99AhWEkqfMQTZEBu7K5ew=s64",
      "userId": "00255403021357644799"
     }
    },
    "outputId": "47b887df-85c9-464c-f5a2-7299efb4fb77"
   },
   "source": [
    "# производим поиск оптимальных значений параметров\n",
    "opt_kP, opt_kI, opt_lag, min_tdone = calc_opt_regulpars(calc_pars, model_pars, cruize_vel)\n",
    "print('найдены оптимальные параметры управления:')\n",
    "print('opt_kP=', round(opt_kP, 2))\n",
    "print('opt_kI=', round(opt_kI, 2))\n",
    "print('opt_lag=', opt_lag)"
   ],
   "execution_count": null,
   "outputs": []
  },
  {
   "cell_type": "code",
   "metadata": {
    "id": "maFDdLM5UZYl"
   },
   "source": [
    "# производим расчет траектории при оптимальных значениях параметров\n",
    "regul_pars['kP'] = opt_kP\n",
    "regul_pars['kI'] = opt_kI\n",
    "regul_pars['lag'] = opt_lag\n",
    "v_trace = calc_velocity_dynamics(calc_pars, model_pars, regul_pars)"
   ],
   "execution_count": null,
   "outputs": []
  },
  {
   "cell_type": "code",
   "metadata": {
    "id": "-LRdpkIOTWiY"
   },
   "source": [
    "# выведем размеры массива и несколько точек траектории для контроля алгоритма\n",
    "print(v_trace.shape)\n",
    "print(v_trace.T[0:9,:])\n",
    "print(v_trace.T[355:364,:])"
   ],
   "execution_count": null,
   "outputs": []
  },
  {
   "cell_type": "code",
   "metadata": {
    "id": "IF-ibhdtJTiq"
   },
   "source": [
    "t_done = analys_tdone(v_trace, cruize_vel, v_precision)\n",
    "print('время достижения заданной точности', t_done)\n",
    "drawErrorDynamic(v_trace, {'Vdir':cruize_vel, 'Tdone':t_done})"
   ],
   "execution_count": null,
   "outputs": []
  },
  {
   "cell_type": "markdown",
   "metadata": {
    "id": "5PqQSaLIvSdd"
   },
   "source": [
    "### Оценка скорости сходимости при оптимальных значениях параметров управления "
   ]
  },
  {
   "cell_type": "code",
   "metadata": {
    "id": "uXOT5b3HwBrq"
   },
   "source": [
    "# -------------------------------------------------------------------------------------------------\n",
    "# ---------  функция расчета динамики погрешности eps[n] = cruize_vel - Vn > Veps  ---------\n",
    "# V_trace[0] - последовательность шагов времени, V_trace[0] - последовательность скоростей,\n",
    "# cruize_vel - заданная круизная скорость, Veps - аналитический допуск приближения к директивной скорости\n",
    "# ----------------------------------------------------------------------------------------------------\n",
    "def calc_errors(v_trace, cruize_vel, Veps):\n",
    "    Vn = v_trace[1]; tn = v_trace[0]\n",
    "    u = (cruize_vel - Vn) < Veps\n",
    "    tic_max = min(min(tn[u])-1, tn[-1])\n",
    "    u1 = tn <= tic_max \n",
    "    eps =  cruize_vel - Vn[u1]\n",
    "    return eps\n",
    "\n",
    "# ----------------------------------------------------------------------------------------------------\n",
    "# -------------     функция расчета последовательности cn = eps[n+1]/eps[n]**p  ----------------\n",
    "# eps - динамикf погрешности eps[n] = cruize_vel - Vn,   p - предполагаемый порядок сходимости\n",
    "# ----------------------------------------------------------------------------------------------------\n",
    "def calc_relative_errors(eps, p):\n",
    "    cc = eps[1:] / eps[:-1]**p\n",
    "    return cc"
   ],
   "execution_count": null,
   "outputs": []
  },
  {
   "cell_type": "code",
   "metadata": {
    "id": "qOKe5Ax94K-y"
   },
   "source": [
    "eps = calc_errors(v_trace, cruize_vel, Veps=5)\n",
    "cc = calc_relative_errors(eps, p=1.03)\n",
    "show_convergence_rate_plot(cc)"
   ],
   "execution_count": null,
   "outputs": []
  },
  {
   "cell_type": "code",
   "metadata": {
    "id": "lOEg7DEZ5M1f"
   },
   "source": [
    "cc = calc_relative_errors(eps, p=1.02)\n",
    "show_convergence_rate_plot(cc)\n"
   ],
   "execution_count": null,
   "outputs": []
  }
 ]
}